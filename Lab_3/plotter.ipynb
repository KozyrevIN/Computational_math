{
 "cells": [
  {
   "cell_type": "code",
   "execution_count": null,
   "metadata": {},
   "outputs": [],
   "source": [
    "import matplotlib.pyplot as plt\n",
    "import matplotlib.animation as animation\n",
    "%matplotlib inline\n",
    "import pandas as pd\n",
    "import numpy as np\n",
    "\n",
    "def plot_animation():\n",
    "    plt.rcParams[\"animation.html\"] = \"jshtml\"\n",
    "    plt.rcParams['figure.dpi'] = 150  \n",
    "    plt.ioff()\n",
    "\n",
    "    x = pd.read_csv('out/animation_x.csv').to_numpy().flatten()\n",
    "    y = pd.read_csv('out/animation_y.csv').to_numpy()\n",
    "    y_exact = pd.read_csv('out/animation_y_exact.csv').to_numpy()\n",
    "\n",
    "    fig, ax = plt.subplots()\n",
    "\n",
    "    def animate(frame):\n",
    "        plt.cla()\n",
    "        plt.plot(x, y_exact[frame])\n",
    "        plt.plot(x, y[frame])\n",
    "\n",
    "    return animation.FuncAnimation(fig, animate, frames = 100, interval=20)"
   ]
  },
  {
   "cell_type": "code",
   "execution_count": null,
   "metadata": {},
   "outputs": [],
   "source": [
    "plot_animation()"
   ]
  }
 ],
 "metadata": {
  "kernelspec": {
   "display_name": "Python 3",
   "language": "python",
   "name": "python3"
  },
  "language_info": {
   "codemirror_mode": {
    "name": "ipython",
    "version": 3
   },
   "file_extension": ".py",
   "mimetype": "text/x-python",
   "name": "python",
   "nbconvert_exporter": "python",
   "pygments_lexer": "ipython3",
   "version": "3.11.6"
  }
 },
 "nbformat": 4,
 "nbformat_minor": 2
}
