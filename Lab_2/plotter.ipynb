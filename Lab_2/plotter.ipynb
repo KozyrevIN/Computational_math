{
 "cells": [
  {
   "cell_type": "markdown",
   "metadata": {},
   "source": [
    "# Лабораторная работа 2\n",
    "\n",
    "Численное решение уравнения переноса"
   ]
  },
  {
   "cell_type": "code",
   "execution_count": null,
   "metadata": {},
   "outputs": [],
   "source": [
    "import matplotlib.pyplot as plt\n",
    "import matplotlib.animation as animation\n",
    "%matplotlib inline\n",
    "import pandas as pd\n",
    "import numpy as np\n",
    "\n",
    "def plot_animation(scheme, problem):\n",
    "    plt.rcParams[\"animation.html\"] = \"jshtml\"\n",
    "    plt.rcParams['figure.dpi'] = 150  \n",
    "    plt.ioff()\n",
    "\n",
    "    x = []\n",
    "    for i in range(8):\n",
    "        xdata = pd.read_csv('out/animations/{}/{}/x_{}.csv'.format(scheme, problem, i))\n",
    "        ydata = pd.read_csv('out/animations/{}/{}/y_{}.csv'.format(scheme, problem, i))\n",
    "        yexactdata = pd.read_csv('out/animations/{}/{}/y_exact_{}.csv'.format(scheme, problem, i))\n",
    "        x = np.concatenate((x, (xdata.to_numpy()).flatten()))\n",
    "        if (i == 0):\n",
    "            y_t = ydata.to_numpy()\n",
    "            y_exact_t = yexactdata.to_numpy()\n",
    "        else:\n",
    "            y_t = np.concatenate((y_t, ydata.to_numpy()), axis = 1)\n",
    "            y_exact_t = np.concatenate((y_exact_t, yexactdata.to_numpy()), axis = 1)\n",
    "\n",
    "    fig, ax = plt.subplots()\n",
    "\n",
    "    def animate(frame):\n",
    "        plt.cla()\n",
    "        plt.plot(x, y_exact_t[frame])\n",
    "        plt.plot(x, y_t[frame])\n",
    "\n",
    "    return animation.FuncAnimation(fig, animate, frames=180, interval=20)\n",
    "\n",
    "def plot_bad_animation(scheme, problem):\n",
    "    plt.rcParams[\"animation.html\"] = \"jshtml\"\n",
    "    plt.rcParams['figure.dpi'] = 150  \n",
    "    plt.ioff()\n",
    "\n",
    "    x = []\n",
    "    for i in range(8):\n",
    "        xdata = pd.read_csv('out/animations/{}/{}/x_{}.csv'.format(scheme, problem, i))\n",
    "        ydata = pd.read_csv('out/animations/{}/{}/y_{}.csv'.format(scheme, problem, i))\n",
    "        yexactdata = pd.read_csv('out/animations/{}/{}/y_exact_{}.csv'.format(scheme, problem, i))\n",
    "        x = np.concatenate((x, (xdata.to_numpy()).flatten()))\n",
    "        if (i == 0):\n",
    "            y_t = ydata.to_numpy()\n",
    "            y_exact_t = yexactdata.to_numpy()\n",
    "        else:\n",
    "            y_t = np.concatenate((y_t, ydata.to_numpy()), axis = 1)\n",
    "            y_exact_t = np.concatenate((y_exact_t, yexactdata.to_numpy()), axis = 1)\n",
    "\n",
    "    fig, ax = plt.subplots()\n",
    "\n",
    "    def animate(frame):\n",
    "        plt.cla()\n",
    "        plt.plot(x, y_exact_t[frame])\n",
    "        plt.plot(x, y_t[frame])\n",
    "\n",
    "    return animation.FuncAnimation(fig, animate, frames=5, interval=200)"
   ]
  },
  {
   "cell_type": "code",
   "execution_count": null,
   "metadata": {},
   "outputs": [],
   "source": [
    "def plot_errors(scheme, stable):\n",
    "    fig, ax = plt.subplots(1, 3, figsize = (12, 4))\n",
    "    plt.subplots_adjust(wspace=0.5)\n",
    "\n",
    "    for i in range(8):\n",
    "        datahtau = pd.read_csv('out/errors/{}/error_h_tau_{}.csv'.format(scheme, i))\n",
    "        if (i == 0):\n",
    "            h = datahtau['h']\n",
    "            tau = datahtau['tau']\n",
    "            error = datahtau['error']\n",
    "        else:\n",
    "            error = np.maximum(error, datahtau['error'])\n",
    "    ax[0].set_xlabel(\"h = tau\")\n",
    "    ax[0].set_ylabel(\"error\")\n",
    "    ax[0].loglog(h, error)\n",
    "\n",
    "    h = h[h < 10e-3]\n",
    "    error = error[0:h.size]\n",
    "    m, b = np.polyfit(np.log(h), np.log(error), 1)\n",
    "    ax[0].text(0.05, 0.95, 'order of convergence = {:.2f}'.format(m), horizontalalignment='left', verticalalignment='top', transform=ax[0].transAxes)\n",
    "\n",
    "    for i in range(8):\n",
    "        datah = pd.read_csv('out/errors/{}/error_h_{}.csv'.format(scheme, i))\n",
    "        if (i == 0):\n",
    "            h = datah['h']\n",
    "            tau = datah['tau']\n",
    "            error = datah['error']\n",
    "        else:\n",
    "            error = np.maximum(error, datah['error'])\n",
    "    ax[1].set_xlabel(\"h\")\n",
    "    ax[1].set_ylabel(\"error\")\n",
    "    ax[1].loglog(h, error)\n",
    "\n",
    "    h = h[h < 10e-4]\n",
    "    error = error[0:h.size]\n",
    "    m, b = np.polyfit(np.log(h), np.log(error), 1)\n",
    "    ax[1].text(0.05, 0.95, 'order of convergence = {:.2f}'.format(m), horizontalalignment='left', verticalalignment='top', transform=ax[1].transAxes)\n",
    "\n",
    "    if (stable):\n",
    "        for i in range(8):\n",
    "            datatau = pd.read_csv('out/errors/{}/error_tau_{}.csv'.format(scheme, i))\n",
    "            if (i == 0):\n",
    "                h = datatau['h']\n",
    "                tau = datatau['tau']\n",
    "                error = datatau['error']\n",
    "            else:\n",
    "                error = np.maximum(error, datatau['error'])\n",
    "        ax[2].set_xlabel(\"tau\")\n",
    "        ax[2].set_ylabel(\"error\")\n",
    "        ax[2].loglog(tau, error)\n",
    "\n",
    "        tau = h[h < 10e-3]\n",
    "        error = error[0:tau.size]\n",
    "        m, b = np.polyfit(np.log(tau), np.log(error), 1)\n",
    "        ax[2].text(0.05, 0.95, 'order of convergence = {:.2f}'.format(m), horizontalalignment='left', verticalalignment='top', transform=ax[2].transAxes)\n",
    "\n",
    "    plt.show()"
   ]
  },
  {
   "cell_type": "markdown",
   "metadata": {},
   "source": [
    "## Левый уголок\n",
    "\n",
    "$$\n",
    "\\frac{u^{j + 1}_{i} - u^{j}_{i}}{\\tau} + a \\frac{u^{j}_{i} - u^{j}_{i - 1}}{h} = 0\n",
    "$$"
   ]
  },
  {
   "cell_type": "code",
   "execution_count": null,
   "metadata": {},
   "outputs": [],
   "source": [
    "plot_animation(\"left_angle\", \"rectangle\")"
   ]
  },
  {
   "cell_type": "code",
   "execution_count": null,
   "metadata": {},
   "outputs": [],
   "source": [
    "plot_animation(\"left_angle\", \"hat\")"
   ]
  },
  {
   "cell_type": "code",
   "execution_count": null,
   "metadata": {},
   "outputs": [],
   "source": [
    "plot_errors(\"left_angle\", False)"
   ]
  },
  {
   "cell_type": "markdown",
   "metadata": {},
   "source": [
    "## Правый уголок"
   ]
  },
  {
   "cell_type": "code",
   "execution_count": null,
   "metadata": {},
   "outputs": [],
   "source": [
    "plot_bad_animation(\"right_angle\", \"rectangle\")"
   ]
  },
  {
   "cell_type": "code",
   "execution_count": null,
   "metadata": {},
   "outputs": [],
   "source": [
    "plot_bad_animation(\"right_angle\", \"hat\")"
   ]
  },
  {
   "cell_type": "markdown",
   "metadata": {},
   "source": [
    "## Неявный уголок"
   ]
  },
  {
   "cell_type": "code",
   "execution_count": null,
   "metadata": {},
   "outputs": [],
   "source": [
    "plot_animation(\"implicit_angle\", \"rectangle\")"
   ]
  },
  {
   "cell_type": "code",
   "execution_count": null,
   "metadata": {},
   "outputs": [],
   "source": [
    "plot_animation(\"implicit_angle\", \"hat\")"
   ]
  },
  {
   "cell_type": "code",
   "execution_count": null,
   "metadata": {},
   "outputs": [],
   "source": [
    "plot_errors(\"implicit_angle\", True)"
   ]
  },
  {
   "cell_type": "markdown",
   "metadata": {},
   "source": [
    "## Четырехточеяная неявная схема"
   ]
  },
  {
   "cell_type": "code",
   "execution_count": null,
   "metadata": {},
   "outputs": [],
   "source": [
    "plot_bad_animation(\"four_point\", \"hat\")"
   ]
  },
  {
   "cell_type": "markdown",
   "metadata": {},
   "source": [
    "## Схема Лакса"
   ]
  },
  {
   "cell_type": "code",
   "execution_count": null,
   "metadata": {},
   "outputs": [],
   "source": [
    "plot_animation(\"lax\", \"rectangle\")"
   ]
  },
  {
   "cell_type": "code",
   "execution_count": null,
   "metadata": {},
   "outputs": [],
   "source": [
    "plot_animation(\"lax\", \"hat\")"
   ]
  },
  {
   "cell_type": "markdown",
   "metadata": {},
   "source": [
    "## Схема Лакса-Вендроффа"
   ]
  }
 ],
 "metadata": {
  "kernelspec": {
   "display_name": "Python 3",
   "language": "python",
   "name": "python3"
  },
  "language_info": {
   "codemirror_mode": {
    "name": "ipython",
    "version": 3
   },
   "file_extension": ".py",
   "mimetype": "text/x-python",
   "name": "python",
   "nbconvert_exporter": "python",
   "pygments_lexer": "ipython3",
   "version": "3.11.6"
  }
 },
 "nbformat": 4,
 "nbformat_minor": 2
}
