{
 "cells": [
  {
   "cell_type": "code",
   "execution_count": null,
   "metadata": {},
   "outputs": [],
   "source": [
    "import matplotlib.pyplot as plt\n",
    "import matplotlib.animation as animation\n",
    "from IPython.display import HTML\n",
    "import pandas as pd\n",
    "import numpy as np\n",
    "\n",
    "x = []\n",
    "for i in range(8):\n",
    "    xdata = pd.read_csv('out/animations/left_angle/x_{}.csv'.format(i))\n",
    "    ydata = pd.read_csv('out/animations/left_angle/y_{}.csv'.format(i))\n",
    "    x = np.concatenate((x, (xdata.to_numpy()).flatten()))\n",
    "    if (i == 0):\n",
    "        y_t = ydata.to_numpy()\n",
    "    else:\n",
    "        y_t = np.concatenate((y_t, ydata.to_numpy()), axis = 1)\n",
    "\n",
    "fig, ax = plt.subplots()\n",
    "line, = ax.plot(x, y_t[0])\n",
    "\n",
    "def animate(frame):\n",
    "    line.set_ydata(y_t[frame])\n",
    "    return line,\n",
    "\n",
    "ani = animation.FuncAnimation(\n",
    "    fig, animate, interval=20, blit=True, save_count=180)\n",
    "HTML(ani.to_jshtml())\n"
   ]
  }
 ],
 "metadata": {
  "kernelspec": {
   "display_name": "Python 3",
   "language": "python",
   "name": "python3"
  },
  "language_info": {
   "codemirror_mode": {
    "name": "ipython",
    "version": 3
   },
   "file_extension": ".py",
   "mimetype": "text/x-python",
   "name": "python",
   "nbconvert_exporter": "python",
   "pygments_lexer": "ipython3",
   "version": "3.11.6"
  }
 },
 "nbformat": 4,
 "nbformat_minor": 2
}
