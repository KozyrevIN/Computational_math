{
 "cells": [
  {
   "cell_type": "markdown",
   "metadata": {},
   "source": [
    "# Shooting method\n",
    "\n",
    "testing nonlinear search of initial values"
   ]
  },
  {
   "cell_type": "code",
   "execution_count": null,
   "metadata": {},
   "outputs": [],
   "source": [
    "import matplotlib.pyplot as plt\n",
    "import pandas as pd\n",
    "import numpy as np\n",
    "\n",
    "res = pd.read_csv('out/shoot.csv')\n",
    "plt.plot(res['x'], res['y'])\n",
    "plt.show()"
   ]
  },
  {
   "cell_type": "markdown",
   "metadata": {},
   "source": [
    "testing linear search of initial values"
   ]
  },
  {
   "cell_type": "code",
   "execution_count": null,
   "metadata": {},
   "outputs": [],
   "source": [
    "res = pd.read_csv('out/shoot_linear.csv')\n",
    "plt.plot(res['x'], res['y'])\n",
    "plt.show()"
   ]
  },
  {
   "cell_type": "markdown",
   "metadata": {},
   "source": [
    "Plotting errors depending on step size h"
   ]
  },
  {
   "cell_type": "code",
   "execution_count": null,
   "metadata": {},
   "outputs": [],
   "source": [
    "res = pd.read_csv('out/shoot_error.csv')\n",
    "h, err = res['h'], res[\"error\"]\n",
    "h = h[h > 10e-3]\n",
    "err = err[0:h.size]\n",
    "plt.loglog(res['h'], res[\"error\"])\n",
    "m, b = np.polyfit(np.log(h), np.log(err), 1)\n",
    "print(\"Order of convergence: \", m)\n",
    "plt.show()"
   ]
  },
  {
   "cell_type": "code",
   "execution_count": null,
   "metadata": {},
   "outputs": [],
   "source": [
    "res = pd.read_csv('out/shoot_linear_error.csv')\n",
    "h, err = res['h'], res[\"error\"]\n",
    "h = h[h > 10e-3]\n",
    "err = err[0:h.size]\n",
    "plt.loglog(res['h'], res[\"error\"])\n",
    "m, b = np.polyfit(np.log(h), np.log(err), 1)\n",
    "print(\"Order of convergence: \", m)\n",
    "plt.show()"
   ]
  },
  {
   "cell_type": "markdown",
   "metadata": {},
   "source": [
    "# Sweep (Thomas) method"
   ]
  },
  {
   "cell_type": "code",
   "execution_count": null,
   "metadata": {},
   "outputs": [],
   "source": [
    "res = pd.read_csv('out/thomas.csv')\n",
    "plt.plot(res['x'], res['y'])\n",
    "plt.show()"
   ]
  },
  {
   "cell_type": "markdown",
   "metadata": {},
   "source": [
    "Plotting errors depending on step size h"
   ]
  },
  {
   "cell_type": "code",
   "execution_count": null,
   "metadata": {},
   "outputs": [],
   "source": [
    "res = pd.read_csv('out/thomas_error.csv')\n",
    "h, err = res['h'], res[\"error\"]\n",
    "h = h[h > 10e-4]\n",
    "err = err[0:h.size]\n",
    "plt.loglog(res['h'], res[\"error\"])\n",
    "m, b = np.polyfit(np.log(h), np.log(err), 1)\n",
    "print(\"Order of convergence: \", m)\n",
    "plt.show()"
   ]
  }
 ],
 "metadata": {
  "kernelspec": {
   "display_name": "Python 3",
   "language": "python",
   "name": "python3"
  },
  "language_info": {
   "codemirror_mode": {
    "name": "ipython",
    "version": 3
   },
   "file_extension": ".py",
   "mimetype": "text/x-python",
   "name": "python",
   "nbconvert_exporter": "python",
   "pygments_lexer": "ipython3",
   "version": "3.11.6"
  }
 },
 "nbformat": 4,
 "nbformat_minor": 2
}
